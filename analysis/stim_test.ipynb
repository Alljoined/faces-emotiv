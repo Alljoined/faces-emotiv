{
 "cells": [
  {
   "cell_type": "code",
   "execution_count": 25,
   "metadata": {},
   "outputs": [],
   "source": [
    "import random\n",
    "\n",
    "def create_trials(n_images, num_blocks):\n",
    "    trials = []\n",
    "\n",
    "    image_list = list(range(1, n_images + 1))\n",
    "    image_list = image_list * 40 # repeated images 40 times now\n",
    "    random.shuffle(image_list)\n",
    "\n",
    "    block_size = int(len(image_list) / num_blocks)\n",
    "    for block in range(num_blocks):\n",
    "        block_trials = image_list[block*block_size:(block+1)*block_size]\n",
    "    \n",
    "        for idx, trial in enumerate(block_trials):\n",
    "            trials.append({\n",
    "                'block': (block + 1), \n",
    "                'image': trial, \n",
    "                'end_of_block': (idx == block_size - 1)\n",
    "            })\n",
    "\n",
    "    return trials"
   ]
  },
  {
   "cell_type": "code",
   "execution_count": 26,
   "metadata": {},
   "outputs": [
    {
     "name": "stdout",
     "output_type": "stream",
     "text": [
      "200\n",
      "200\n"
     ]
    }
   ],
   "source": [
    "trials = create_trials(100,20)"
   ]
  },
  {
   "cell_type": "code",
   "execution_count": 22,
   "metadata": {},
   "outputs": [
    {
     "data": {
      "text/plain": [
       "4000"
      ]
     },
     "execution_count": 22,
     "metadata": {},
     "output_type": "execute_result"
    }
   ],
   "source": [
    "len(trials)"
   ]
  },
  {
   "cell_type": "code",
   "execution_count": null,
   "metadata": {},
   "outputs": [],
   "source": []
  }
 ],
 "metadata": {
  "kernelspec": {
   "display_name": "stimulus",
   "language": "python",
   "name": "python3"
  },
  "language_info": {
   "codemirror_mode": {
    "name": "ipython",
    "version": 3
   },
   "file_extension": ".py",
   "mimetype": "text/x-python",
   "name": "python",
   "nbconvert_exporter": "python",
   "pygments_lexer": "ipython3",
   "version": "3.8.19"
  }
 },
 "nbformat": 4,
 "nbformat_minor": 2
}
